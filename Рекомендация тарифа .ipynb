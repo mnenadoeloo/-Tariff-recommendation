{
 "cells": [
  {
   "cell_type": "markdown",
   "metadata": {},
   "source": [
    "## Начало"
   ]
  },
  {
   "cell_type": "code",
   "execution_count": 2,
   "metadata": {},
   "outputs": [],
   "source": [
    "import pandas as pd\n",
    "from sklearn.tree import DecisionTreeClassifier\n",
    "from sklearn.ensemble import RandomForestClassifier\n",
    "from sklearn.linear_model import LogisticRegression \n",
    "from sklearn.model_selection import train_test_split\n",
    "from sklearn.metrics import accuracy_score\n",
    "from sklearn.dummy import DummyClassifier"
   ]
  },
  {
   "cell_type": "code",
   "execution_count": 3,
   "metadata": {},
   "outputs": [],
   "source": [
    "df = pd.read_csv('/datasets/users_behavior.csv')"
   ]
  },
  {
   "cell_type": "code",
   "execution_count": 4,
   "metadata": {},
   "outputs": [
    {
     "data": {
      "text/html": [
       "<div>\n",
       "<style scoped>\n",
       "    .dataframe tbody tr th:only-of-type {\n",
       "        vertical-align: middle;\n",
       "    }\n",
       "\n",
       "    .dataframe tbody tr th {\n",
       "        vertical-align: top;\n",
       "    }\n",
       "\n",
       "    .dataframe thead th {\n",
       "        text-align: right;\n",
       "    }\n",
       "</style>\n",
       "<table border=\"1\" class=\"dataframe\">\n",
       "  <thead>\n",
       "    <tr style=\"text-align: right;\">\n",
       "      <th></th>\n",
       "      <th>calls</th>\n",
       "      <th>minutes</th>\n",
       "      <th>messages</th>\n",
       "      <th>mb_used</th>\n",
       "      <th>is_ultra</th>\n",
       "    </tr>\n",
       "  </thead>\n",
       "  <tbody>\n",
       "    <tr>\n",
       "      <th>0</th>\n",
       "      <td>40.0</td>\n",
       "      <td>311.90</td>\n",
       "      <td>83.0</td>\n",
       "      <td>19915.42</td>\n",
       "      <td>0</td>\n",
       "    </tr>\n",
       "    <tr>\n",
       "      <th>1</th>\n",
       "      <td>85.0</td>\n",
       "      <td>516.75</td>\n",
       "      <td>56.0</td>\n",
       "      <td>22696.96</td>\n",
       "      <td>0</td>\n",
       "    </tr>\n",
       "    <tr>\n",
       "      <th>2</th>\n",
       "      <td>77.0</td>\n",
       "      <td>467.66</td>\n",
       "      <td>86.0</td>\n",
       "      <td>21060.45</td>\n",
       "      <td>0</td>\n",
       "    </tr>\n",
       "    <tr>\n",
       "      <th>3</th>\n",
       "      <td>106.0</td>\n",
       "      <td>745.53</td>\n",
       "      <td>81.0</td>\n",
       "      <td>8437.39</td>\n",
       "      <td>1</td>\n",
       "    </tr>\n",
       "    <tr>\n",
       "      <th>4</th>\n",
       "      <td>66.0</td>\n",
       "      <td>418.74</td>\n",
       "      <td>1.0</td>\n",
       "      <td>14502.75</td>\n",
       "      <td>0</td>\n",
       "    </tr>\n",
       "  </tbody>\n",
       "</table>\n",
       "</div>"
      ],
      "text/plain": [
       "   calls  minutes  messages   mb_used  is_ultra\n",
       "0   40.0   311.90      83.0  19915.42         0\n",
       "1   85.0   516.75      56.0  22696.96         0\n",
       "2   77.0   467.66      86.0  21060.45         0\n",
       "3  106.0   745.53      81.0   8437.39         1\n",
       "4   66.0   418.74       1.0  14502.75         0"
      ]
     },
     "execution_count": 4,
     "metadata": {},
     "output_type": "execute_result"
    }
   ],
   "source": [
    "df.head()"
   ]
  },
  {
   "cell_type": "code",
   "execution_count": 5,
   "metadata": {},
   "outputs": [
    {
     "name": "stdout",
     "output_type": "stream",
     "text": [
      "<class 'pandas.core.frame.DataFrame'>\n",
      "RangeIndex: 3214 entries, 0 to 3213\n",
      "Data columns (total 5 columns):\n",
      " #   Column    Non-Null Count  Dtype  \n",
      "---  ------    --------------  -----  \n",
      " 0   calls     3214 non-null   float64\n",
      " 1   minutes   3214 non-null   float64\n",
      " 2   messages  3214 non-null   float64\n",
      " 3   mb_used   3214 non-null   float64\n",
      " 4   is_ultra  3214 non-null   int64  \n",
      "dtypes: float64(4), int64(1)\n",
      "memory usage: 125.7 KB\n"
     ]
    }
   ],
   "source": [
    "df.info()"
   ]
  },
  {
   "cell_type": "markdown",
   "metadata": {},
   "source": [
    "### Мини-вывод:\n",
    "Первым делом мы открыли и изучили файл. Что можно сказать: таблица небольшая,все данные структурированы.Признаками можно обозначить столбцы calls, minutes, messages и mb_used. Целевым признаком можно обозначить стобец is_ultra."
   ]
  },
  {
   "cell_type": "markdown",
   "metadata": {},
   "source": [
    "## Разбиение данных на выборки"
   ]
  },
  {
   "cell_type": "code",
   "execution_count": 6,
   "metadata": {},
   "outputs": [],
   "source": [
    "df_train, df_valid = train_test_split(df, test_size=0.4, random_state=12345)\n",
    "df_valid, df_test = train_test_split(df_valid, test_size=0.5, random_state=12345)\n",
    "features_train = df_train.drop(['is_ultra'], axis=1)\n",
    "target_train = df_train['is_ultra']\n",
    "features_valid = df_valid.drop(['is_ultra'], axis=1)\n",
    "features_test = df_test.drop(['is_ultra'], axis=1)\n",
    "target_valid = df_valid['is_ultra']\n",
    "target_test = df_test['is_ultra']"
   ]
  },
  {
   "cell_type": "markdown",
   "metadata": {},
   "source": [
    "## Исследование моделей"
   ]
  },
  {
   "cell_type": "markdown",
   "metadata": {},
   "source": [
    "Рассмотрим три разные модели на валидационной и обучающей выборках поочередности и выберем лучшую. Так как целевой признак у нас категориальный, то мы решаем задачу квалификации."
   ]
  },
  {
   "cell_type": "code",
   "execution_count": 7,
   "metadata": {},
   "outputs": [
    {
     "data": {
      "text/plain": [
       "'Accuracy лучшей модели на обучающей выборке:'"
      ]
     },
     "metadata": {},
     "output_type": "display_data"
    },
    {
     "data": {
      "text/plain": [
       "0.8890041493775933"
      ]
     },
     "metadata": {},
     "output_type": "display_data"
    }
   ],
   "source": [
    "best_result_train = 0\n",
    "for depth in range(1, 11):\n",
    "    model = DecisionTreeClassifier(random_state=12345, max_depth=depth)\n",
    "    model.fit(features_train, target_train)\n",
    "    predictions_train = model.predict(features_train)\n",
    "    result_train = accuracy_score(target_train, predictions_train)\n",
    "    if result_train > best_result_train:\n",
    "        best_result_train = result_train\n",
    "display(\"Accuracy лучшей модели на обучающей выборке:\", best_result_train)"
   ]
  },
  {
   "cell_type": "markdown",
   "metadata": {},
   "source": [
    "Первой моделью на обучающей выборке я использую решающее дерево. Я решил перебрать значения max_depth от 1 до 10 для того,чтобы перебрать больше вариантов и найти лучший процент accuracy.Результат на валидационной выборке неплох,скорость высокая.Перейдем к другой модели."
   ]
  },
  {
   "cell_type": "code",
   "execution_count": 8,
   "metadata": {},
   "outputs": [
    {
     "data": {
      "text/plain": [
       "'Accuracy лучшей модели на обучающей выборке:'"
      ]
     },
     "metadata": {},
     "output_type": "display_data"
    },
    {
     "data": {
      "text/plain": [
       "0.8947095435684648"
      ]
     },
     "metadata": {},
     "output_type": "display_data"
    }
   ],
   "source": [
    "best_result_train = 0\n",
    "for est in range(10, 51, 10):\n",
    "    for depth in range(1, 11):\n",
    "        model = RandomForestClassifier(random_state=12345, n_estimators=est, max_depth=depth) \n",
    "        model.fit(features_train, target_train)\n",
    "        predictions_train = model.predict(features_train)\n",
    "        result_train = accuracy_score(target_train, predictions_train)\n",
    "        if result_train > best_result_train:\n",
    "            best_result_train = result_train\n",
    "display(\"Accuracy лучшей модели на обучающей выборке:\", best_result_train)"
   ]
  },
  {
   "cell_type": "markdown",
   "metadata": {},
   "source": [
    "Второй моделью я рассмотрел случайный лес.Я также решил перебрать значения max_depth от 1 до 10, а также значения n_estimators от 10 до 50 с шагом 10.На данный момент модель случайного леса показала результат хуже,чем решающее дерево, на обучающей выборке,но скорость у данной модели не самая высокая."
   ]
  },
  {
   "cell_type": "code",
   "execution_count": 9,
   "metadata": {},
   "outputs": [
    {
     "data": {
      "text/plain": [
       "'Accuracy лучшей модели на обучающей выборке:'"
      ]
     },
     "metadata": {},
     "output_type": "display_data"
    },
    {
     "data": {
      "text/plain": [
       "0.7131742738589212"
      ]
     },
     "metadata": {},
     "output_type": "display_data"
    }
   ],
   "source": [
    "best_result_train = 0\n",
    "model = LogisticRegression(random_state=12345, solver='lbfgs', max_iter=1000)\n",
    "model.fit(features_train, target_train)\n",
    "predictions_train = model.predict(features_train)\n",
    "result_train = accuracy_score(target_train, predictions_train)\n",
    "if result_train > best_result_train:\n",
    "    best_result_train = result_train\n",
    "display(\"Accuracy лучшей модели на обучающей выборке:\", best_result_train)"
   ]
  },
  {
   "cell_type": "markdown",
   "metadata": {},
   "source": [
    "Последней моделью я рассмотрел логическую регрессию.Скорость у данной модели высокая,результат такой же,как у случайного леса."
   ]
  },
  {
   "cell_type": "code",
   "execution_count": 10,
   "metadata": {},
   "outputs": [
    {
     "data": {
      "text/plain": [
       "'Accuracy лучшей модели на валидационной выборке:'"
      ]
     },
     "metadata": {},
     "output_type": "display_data"
    },
    {
     "data": {
      "text/plain": [
       "0.7853810264385692"
      ]
     },
     "metadata": {},
     "output_type": "display_data"
    }
   ],
   "source": [
    "best_result_valid = 0\n",
    "for depth in range(1, 11):\n",
    "    model = DecisionTreeClassifier(random_state=12345, max_depth=depth)\n",
    "    model.fit(features_train, target_train)\n",
    "    predictions_valid = model.predict(features_valid)\n",
    "    result_valid = accuracy_score(target_valid, predictions_valid)\n",
    "    if result_valid > best_result_valid:\n",
    "        best_result_valid = result_valid\n",
    "display(\"Accuracy лучшей модели на валидационной выборке:\", best_result_valid)"
   ]
  },
  {
   "cell_type": "markdown",
   "metadata": {},
   "source": [
    "Первой моделью на валидационной выборке я использую решающее дерево. Я решил перебрать значения max_depth от 1 до 10 для того,чтобы перебрать больше вариантов и найти лучший процент accuracy.Результат на валидационной выборке неплох,скорость высокая.Перейдем к другой модели."
   ]
  },
  {
   "cell_type": "code",
   "execution_count": 11,
   "metadata": {},
   "outputs": [
    {
     "data": {
      "text/plain": [
       "'Accuracy лучшей модели на валидационной выборке:'"
      ]
     },
     "metadata": {},
     "output_type": "display_data"
    },
    {
     "data": {
      "text/plain": [
       "0.8087091757387247"
      ]
     },
     "metadata": {},
     "output_type": "display_data"
    }
   ],
   "source": [
    "best_result_valid = 0\n",
    "for est in range(10, 51, 10):\n",
    "    for depth in range(1, 11):\n",
    "        model = RandomForestClassifier(random_state=12345, n_estimators=est, max_depth=depth) \n",
    "        model.fit(features_train, target_train)\n",
    "        predictions_valid = model.predict(features_valid)\n",
    "        result_valid = accuracy_score(target_valid, predictions_valid)\n",
    "        if result_valid > best_result_valid:\n",
    "            best_result_valid = result_valid\n",
    "display(\"Accuracy лучшей модели на валидационной выборке:\", best_result_valid)"
   ]
  },
  {
   "cell_type": "markdown",
   "metadata": {},
   "source": [
    "Второй моделью я рассмотрел случайный лес.Я также решил перебрать значения max_depth от 1 до 10, а также значения n_estimators от 10 до 50 с шагом 10.На данный момент модель случайного леса показала наилучший результат на валидационной выборке,но скорость у данной модели не самая высокая."
   ]
  },
  {
   "cell_type": "code",
   "execution_count": 12,
   "metadata": {},
   "outputs": [
    {
     "data": {
      "text/plain": [
       "'Accuracy лучшей модели на валидационной выборке:'"
      ]
     },
     "metadata": {},
     "output_type": "display_data"
    },
    {
     "data": {
      "text/plain": [
       "0.7107309486780715"
      ]
     },
     "metadata": {},
     "output_type": "display_data"
    }
   ],
   "source": [
    "best_result_valid = 0\n",
    "model = LogisticRegression(random_state=12345, solver='lbfgs', max_iter=1000)\n",
    "model.fit(features_train, target_train)\n",
    "predictions_valid = model.predict(features_valid)\n",
    "result_valid = accuracy_score(target_valid, predictions_valid)\n",
    "if result_valid > best_result_valid:\n",
    "    best_result_valid = result_valid\n",
    "display(\"Accuracy лучшей модели на валидационной выборке:\", best_result_valid)"
   ]
  },
  {
   "cell_type": "markdown",
   "metadata": {},
   "source": [
    "Последней моделью я рассмотрел логическую регрессию.Скорость у данной модели высокая,но результат не очень.Данная модель показала худший результат на валидационной выборке"
   ]
  },
  {
   "cell_type": "markdown",
   "metadata": {},
   "source": [
    "## Проверка моделей на тестовой выборке"
   ]
  },
  {
   "cell_type": "markdown",
   "metadata": {},
   "source": [
    "Пройдемся по тем же моделям,но проверять будем на тренировочных выборках."
   ]
  },
  {
   "cell_type": "code",
   "execution_count": 13,
   "metadata": {},
   "outputs": [
    {
     "data": {
      "text/plain": [
       "'Accuracy лучшей модели на тестовой выборке:'"
      ]
     },
     "metadata": {},
     "output_type": "display_data"
    },
    {
     "data": {
      "text/plain": [
       "0.7993779160186625"
      ]
     },
     "metadata": {},
     "output_type": "display_data"
    }
   ],
   "source": [
    "best_result_test = 0\n",
    "for depth in range(1, 11):\n",
    "    model = DecisionTreeClassifier(random_state=12345, max_depth=depth)\n",
    "    model.fit(features_train, target_train)\n",
    "    predictions_test = model.predict(features_test)\n",
    "    result_test = accuracy_score(target_test, predictions_test)\n",
    "    if result_test > best_result_test:\n",
    "        best_result_test = result_test\n",
    "display(\"Accuracy лучшей модели на тестовой выборке:\", best_result_test)"
   ]
  },
  {
   "cell_type": "markdown",
   "metadata": {},
   "source": [
    "На тренировочной выборке модель решающего дерево показало неплохой результат accuracy"
   ]
  },
  {
   "cell_type": "code",
   "execution_count": 14,
   "metadata": {},
   "outputs": [
    {
     "data": {
      "text/plain": [
       "'Accuracy лучшей модели на обучающей выборке:'"
      ]
     },
     "metadata": {},
     "output_type": "display_data"
    },
    {
     "data": {
      "text/plain": [
       "0.7884914463452566"
      ]
     },
     "metadata": {},
     "output_type": "display_data"
    }
   ],
   "source": [
    "best_result_test = 0\n",
    "for est in range(10, 51, 10):\n",
    "    for depth in range(1, 11):\n",
    "        model = RandomForestClassifier(random_state=12345, n_estimators=est, max_depth=depth) \n",
    "        model.fit(features_train, target_train)\n",
    "        predictions_valid = model.predict(features_test)\n",
    "        result_valid = accuracy_score(target_test, predictions_test)\n",
    "        if result_test > best_result_test:\n",
    "            best_result_test = result_test\n",
    "display(\"Accuracy лучшей модели на обучающей выборке:\", best_result_test)"
   ]
  },
  {
   "cell_type": "markdown",
   "metadata": {},
   "source": [
    "Модель случайного леса показала на данный момент результат хуже,чем решающее дерево,но не сильно."
   ]
  },
  {
   "cell_type": "code",
   "execution_count": 15,
   "metadata": {},
   "outputs": [
    {
     "data": {
      "text/plain": [
       "'Accuracy лучшей модели на обучающей выборке:'"
      ]
     },
     "metadata": {},
     "output_type": "display_data"
    },
    {
     "data": {
      "text/plain": [
       "0.7884914463452566"
      ]
     },
     "metadata": {},
     "output_type": "display_data"
    }
   ],
   "source": [
    "best_result_test = 0\n",
    "model = LogisticRegression(random_state=12345, solver='lbfgs', max_iter=1000)\n",
    "model.fit(features_train, target_train)\n",
    "predictions_valid = model.predict(features_test)\n",
    "result_valid = accuracy_score(target_test, predictions_test)\n",
    "if result_test > best_result_test:\n",
    "    best_result_test = result_test\n",
    "display(\"Accuracy лучшей модели на обучающей выборке:\", best_result_test)"
   ]
  },
  {
   "cell_type": "markdown",
   "metadata": {},
   "source": [
    "На обучающей выборке модель линейной регрессии показала неплохой результат,такой же,как у случайного леса"
   ]
  },
  {
   "cell_type": "markdown",
   "metadata": {},
   "source": [
    "### Мини-вывод:\n",
    "Мы рассмотрели три разные модели на трех разных выборках. \n",
    "\n",
    "На обучающей выборке лучший результат показала модель решающего дерева.Результаты случайного леса и логической регрессии равны.\n",
    "\n",
    "На валидационной выборке лучший результат показала модель случайного леса,а худший модель логической регресси, что удивительно,ибо данная модель по точности обычно идет второй после модели случайного леса.\n",
    "\n",
    "На тренировочной выборке все позиции относительно результата сохранились. Лучший результат показала модель случайного леса, худший - модель логической регрессии.\n",
    "\n",
    "Мне удалось добиться лучших результатов на обучающей выборке - 0.7993779160186625, валидационной выборке - 0.8087091757387247, а на тренировочной выборке - 0.8947095435684648."
   ]
  },
  {
   "cell_type": "markdown",
   "metadata": {},
   "source": [
    "##  Проверка модели на адекватность"
   ]
  },
  {
   "cell_type": "code",
   "execution_count": 17,
   "metadata": {},
   "outputs": [
    {
     "data": {
      "text/plain": [
       "'Качество валидационной выборки: 0.7060653188180405'"
      ]
     },
     "metadata": {},
     "output_type": "display_data"
    },
    {
     "data": {
      "text/plain": [
       "'Качество тренирочной выборки: 0.6842923794712286'"
      ]
     },
     "metadata": {},
     "output_type": "display_data"
    }
   ],
   "source": [
    "dummy_clf = DummyClassifier(strategy=\"most_frequent\")\n",
    "dummy_clf.fit(features_test, target_test)\n",
    "DummyClassifier(strategy='most_frequent')\n",
    "display(f'Качество валидационной выборки: {dummy_clf.score(features_valid, target_valid)}')\n",
    "display(f'Качество тренирочной выборки: {dummy_clf.score(features_test, target_test)}')"
   ]
  },
  {
   "cell_type": "markdown",
   "metadata": {},
   "source": [
    "### Мини-вывод:\n",
    "Чтобы понять переобучена модель или нет мы должны посмотреть на разность значения accuracy между валидационной и тренировочной выборок.Наилучшая разница в этом плане в модели линейной регрессии,т.к там результаты практически равны друг другу.Худшая модель в этом плане - случайный лес. Разница accuracy между валидационной и тренировочной выборок у модели случайного леса небольшая и равна примерно 2.Можно сказать,что модель непереучена.\n",
    "\n",
    "Качество валидационной и тренировочной выборок находятся примерно равны друг другу. Поэтому,можно сказать,что модель решающего дерева наиболее подходящая модель для решения этой задачи\n",
    "\n",
    "Поэтому, проверку на адекватность модели модель случайного леса прошла."
   ]
  },
  {
   "cell_type": "markdown",
   "metadata": {},
   "source": [
    "# Вывод:\n",
    "В данном проекте в моем распоряжении данные о поведении клиентов, которые уже перешли на эти тарифы. Моя задача заключалась в  построении модели для задачи классификации, которая выберет подходящий тариф.\n",
    "\n",
    "Сначала нам необходимо было разделить выборки на валидационную и тренировочную, с этим я успешно справился. Потом начался анализ, я брал различные модели и рассматривали их в контексте валидационной и тренировочной выборки,а потом проверял модели на адекватность.\n",
    "\n",
    "После всех действий я пришел к тому, что лучшего всего с данной задачей справляется модель решающего дерева. Поэтому,для решения данной задачи я рекомендую использовать модель случайного леса,она наиболее точная,но есть проблема в том,что она работает дольше,чем остальные модели."
   ]
  }
 ],
 "metadata": {
  "ExecuteTimeLog": [
   {
    "duration": 1133,
    "start_time": "2022-05-14T20:34:57.977Z"
   },
   {
    "duration": 107,
    "start_time": "2022-05-14T20:35:47.186Z"
   },
   {
    "duration": 19,
    "start_time": "2022-05-14T20:42:00.314Z"
   },
   {
    "duration": 4,
    "start_time": "2022-05-14T20:47:32.791Z"
   },
   {
    "duration": 5,
    "start_time": "2022-05-14T20:47:33.492Z"
   },
   {
    "duration": 101,
    "start_time": "2022-05-14T21:57:36.656Z"
   },
   {
    "duration": 129,
    "start_time": "2022-05-14T22:02:46.061Z"
   },
   {
    "duration": 10,
    "start_time": "2022-05-14T22:02:51.204Z"
   },
   {
    "duration": 4,
    "start_time": "2022-05-14T22:03:00.950Z"
   },
   {
    "duration": 17,
    "start_time": "2022-05-14T22:03:04.494Z"
   },
   {
    "duration": 3,
    "start_time": "2022-05-14T22:03:27.277Z"
   },
   {
    "duration": 15,
    "start_time": "2022-05-14T22:03:29.945Z"
   },
   {
    "duration": 19,
    "start_time": "2022-05-14T22:03:48.824Z"
   },
   {
    "duration": 77,
    "start_time": "2022-05-14T22:04:12.013Z"
   },
   {
    "duration": 97,
    "start_time": "2022-05-14T22:13:06.616Z"
   },
   {
    "duration": 1099,
    "start_time": "2022-05-15T12:14:27.306Z"
   },
   {
    "duration": 18,
    "start_time": "2022-05-15T12:14:29.563Z"
   },
   {
    "duration": 19,
    "start_time": "2022-05-15T12:14:30.239Z"
   },
   {
    "duration": 4,
    "start_time": "2022-05-15T12:14:32.193Z"
   },
   {
    "duration": 6,
    "start_time": "2022-05-15T12:14:34.338Z"
   },
   {
    "duration": 96,
    "start_time": "2022-05-15T12:14:39.218Z"
   },
   {
    "duration": 1144,
    "start_time": "2022-05-16T05:58:16.377Z"
   },
   {
    "duration": 19,
    "start_time": "2022-05-16T05:58:18.432Z"
   },
   {
    "duration": 18,
    "start_time": "2022-05-16T05:58:19.037Z"
   },
   {
    "duration": 4,
    "start_time": "2022-05-16T05:58:20.481Z"
   },
   {
    "duration": 5,
    "start_time": "2022-05-16T05:58:22.022Z"
   },
   {
    "duration": 91,
    "start_time": "2022-05-16T05:58:23.873Z"
   },
   {
    "duration": 449,
    "start_time": "2022-05-16T06:08:48.589Z"
   },
   {
    "duration": 34,
    "start_time": "2022-05-16T06:09:07.151Z"
   },
   {
    "duration": 22,
    "start_time": "2022-05-16T06:10:38.143Z"
   },
   {
    "duration": 32,
    "start_time": "2022-05-16T06:10:56.530Z"
   },
   {
    "duration": 92,
    "start_time": "2022-05-16T06:11:20.874Z"
   },
   {
    "duration": 40,
    "start_time": "2022-05-16T06:11:35.352Z"
   },
   {
    "duration": 14,
    "start_time": "2022-05-16T06:13:14.715Z"
   },
   {
    "duration": 3,
    "start_time": "2022-05-16T06:13:51.936Z"
   },
   {
    "duration": 15,
    "start_time": "2022-05-16T06:13:53.985Z"
   },
   {
    "duration": 10,
    "start_time": "2022-05-16T06:13:54.467Z"
   },
   {
    "duration": 4,
    "start_time": "2022-05-16T06:13:54.758Z"
   },
   {
    "duration": 5,
    "start_time": "2022-05-16T06:13:55.133Z"
   },
   {
    "duration": 91,
    "start_time": "2022-05-16T06:13:57.896Z"
   },
   {
    "duration": 3977,
    "start_time": "2022-05-16T06:13:59.583Z"
   },
   {
    "duration": 3,
    "start_time": "2022-05-16T06:16:45.175Z"
   },
   {
    "duration": 17,
    "start_time": "2022-05-16T06:16:49.933Z"
   },
   {
    "duration": 23,
    "start_time": "2022-05-16T06:17:34.416Z"
   },
   {
    "duration": 93,
    "start_time": "2022-05-16T06:20:36.785Z"
   },
   {
    "duration": 3,
    "start_time": "2022-05-16T06:23:15.011Z"
   },
   {
    "duration": 4178,
    "start_time": "2022-05-16T06:23:22.307Z"
   },
   {
    "duration": 90,
    "start_time": "2022-05-16T06:27:44.820Z"
   },
   {
    "duration": 31,
    "start_time": "2022-05-16T06:28:16.807Z"
   },
   {
    "duration": 4354,
    "start_time": "2022-05-16T06:28:25.621Z"
   },
   {
    "duration": 18,
    "start_time": "2022-05-16T06:35:35.096Z"
   },
   {
    "duration": 12,
    "start_time": "2022-05-16T06:37:46.055Z"
   },
   {
    "duration": 3,
    "start_time": "2022-05-16T06:38:38.449Z"
   },
   {
    "duration": 557,
    "start_time": "2022-05-16T06:38:49.836Z"
   },
   {
    "duration": 80,
    "start_time": "2022-05-16T06:40:25.804Z"
   },
   {
    "duration": 73,
    "start_time": "2022-05-16T06:40:32.616Z"
   },
   {
    "duration": 74,
    "start_time": "2022-05-16T06:41:02.018Z"
   },
   {
    "duration": 4088,
    "start_time": "2022-05-16T06:41:44.010Z"
   },
   {
    "duration": 3802,
    "start_time": "2022-05-16T06:42:16.891Z"
   },
   {
    "duration": 254,
    "start_time": "2022-05-16T06:42:53.636Z"
   },
   {
    "duration": 116,
    "start_time": "2022-05-16T06:43:59.175Z"
   },
   {
    "duration": 188,
    "start_time": "2022-05-16T07:02:36.207Z"
   },
   {
    "duration": 11,
    "start_time": "2022-05-16T07:28:51.920Z"
   },
   {
    "duration": 3,
    "start_time": "2022-05-16T07:38:15.689Z"
   },
   {
    "duration": 5,
    "start_time": "2022-05-16T07:39:17.564Z"
   },
   {
    "duration": 6,
    "start_time": "2022-05-16T07:43:49.744Z"
   },
   {
    "duration": 8,
    "start_time": "2022-05-16T07:45:23.275Z"
   },
   {
    "duration": 9,
    "start_time": "2022-05-16T07:46:43.821Z"
   },
   {
    "duration": 7,
    "start_time": "2022-05-16T07:51:11.112Z"
   },
   {
    "duration": 9,
    "start_time": "2022-05-16T07:52:05.355Z"
   },
   {
    "duration": 1109,
    "start_time": "2022-05-16T18:09:49.648Z"
   },
   {
    "duration": 14,
    "start_time": "2022-05-16T18:09:52.011Z"
   },
   {
    "duration": 19,
    "start_time": "2022-05-16T18:09:52.710Z"
   },
   {
    "duration": 12,
    "start_time": "2022-05-16T18:09:53.724Z"
   },
   {
    "duration": 9,
    "start_time": "2022-05-16T18:10:42.262Z"
   },
   {
    "duration": 65,
    "start_time": "2022-05-16T18:13:50.508Z"
   },
   {
    "duration": 3619,
    "start_time": "2022-05-16T18:15:36.401Z"
   },
   {
    "duration": 27,
    "start_time": "2022-05-16T18:16:51.636Z"
   },
   {
    "duration": 66,
    "start_time": "2022-05-16T18:18:03.457Z"
   },
   {
    "duration": 3406,
    "start_time": "2022-05-16T18:18:05.369Z"
   },
   {
    "duration": 26,
    "start_time": "2022-05-16T18:18:17.735Z"
   },
   {
    "duration": 64,
    "start_time": "2022-05-16T18:18:30.313Z"
   },
   {
    "duration": 3550,
    "start_time": "2022-05-16T18:18:35.709Z"
   },
   {
    "duration": 25,
    "start_time": "2022-05-16T18:18:46.088Z"
   },
   {
    "duration": 1046,
    "start_time": "2022-05-17T19:44:07.978Z"
   },
   {
    "duration": 118,
    "start_time": "2022-05-17T19:44:09.026Z"
   },
   {
    "duration": 19,
    "start_time": "2022-05-17T19:44:09.146Z"
   },
   {
    "duration": 39,
    "start_time": "2022-05-17T19:44:09.168Z"
   },
   {
    "duration": 34,
    "start_time": "2022-05-17T19:44:09.209Z"
   },
   {
    "duration": 34,
    "start_time": "2022-05-17T19:44:09.245Z"
   },
   {
    "duration": 31,
    "start_time": "2022-05-17T19:44:09.281Z"
   },
   {
    "duration": 111,
    "start_time": "2022-05-17T19:44:09.314Z"
   },
   {
    "duration": 4496,
    "start_time": "2022-05-17T19:44:09.427Z"
   },
   {
    "duration": 40,
    "start_time": "2022-05-17T19:44:13.926Z"
   },
   {
    "duration": 95,
    "start_time": "2022-05-17T19:44:13.967Z"
   },
   {
    "duration": 4092,
    "start_time": "2022-05-17T19:44:14.065Z"
   },
   {
    "duration": 40,
    "start_time": "2022-05-17T19:44:18.159Z"
   },
   {
    "duration": 99,
    "start_time": "2022-05-17T19:44:18.213Z"
   },
   {
    "duration": 4366,
    "start_time": "2022-05-17T19:44:18.314Z"
   },
   {
    "duration": 52,
    "start_time": "2022-05-17T19:44:22.682Z"
   },
   {
    "duration": 3,
    "start_time": "2022-05-17T19:44:22.736Z"
   },
   {
    "duration": 19,
    "start_time": "2022-05-17T19:44:22.740Z"
   },
   {
    "duration": 55,
    "start_time": "2022-05-18T06:37:52.772Z"
   },
   {
    "duration": 1109,
    "start_time": "2022-05-18T06:40:24.395Z"
   },
   {
    "duration": 44,
    "start_time": "2022-05-18T06:40:25.775Z"
   },
   {
    "duration": 22,
    "start_time": "2022-05-18T06:40:25.950Z"
   },
   {
    "duration": 12,
    "start_time": "2022-05-18T06:40:26.025Z"
   },
   {
    "duration": 12,
    "start_time": "2022-05-18T06:40:27.081Z"
   },
   {
    "duration": 73,
    "start_time": "2022-05-18T06:40:28.147Z"
   },
   {
    "duration": 4189,
    "start_time": "2022-05-18T06:40:28.419Z"
   },
   {
    "duration": 52,
    "start_time": "2022-05-18T06:40:32.611Z"
   },
   {
    "duration": 85,
    "start_time": "2022-05-18T06:40:32.665Z"
   },
   {
    "duration": 3819,
    "start_time": "2022-05-18T06:40:32.752Z"
   },
   {
    "duration": 29,
    "start_time": "2022-05-18T06:40:36.574Z"
   },
   {
    "duration": 78,
    "start_time": "2022-05-18T06:40:40.409Z"
   },
   {
    "duration": 3827,
    "start_time": "2022-05-18T06:40:41.855Z"
   },
   {
    "duration": 27,
    "start_time": "2022-05-18T06:40:51.876Z"
   },
   {
    "duration": 8,
    "start_time": "2022-05-18T06:52:57.195Z"
   },
   {
    "duration": 8,
    "start_time": "2022-05-18T06:53:19.254Z"
   },
   {
    "duration": 111,
    "start_time": "2022-05-18T16:45:02.831Z"
   }
  ],
  "kernelspec": {
   "display_name": "Python 3 (ipykernel)",
   "language": "python",
   "name": "python3"
  },
  "language_info": {
   "codemirror_mode": {
    "name": "ipython",
    "version": 3
   },
   "file_extension": ".py",
   "mimetype": "text/x-python",
   "name": "python",
   "nbconvert_exporter": "python",
   "pygments_lexer": "ipython3",
   "version": "3.9.7"
  },
  "toc": {
   "base_numbering": 1,
   "nav_menu": {},
   "number_sections": true,
   "sideBar": true,
   "skip_h1_title": true,
   "title_cell": "Table of Contents",
   "title_sidebar": "Contents",
   "toc_cell": false,
   "toc_position": {},
   "toc_section_display": true,
   "toc_window_display": false
  }
 },
 "nbformat": 4,
 "nbformat_minor": 2
}
